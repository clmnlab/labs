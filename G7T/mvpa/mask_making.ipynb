{
 "cells": [
  {
   "cell_type": "code",
   "execution_count": 1,
   "metadata": {},
   "outputs": [
    {
     "name": "stderr",
     "output_type": "stream",
     "text": [
      "/opt/anaconda3/envs/npy3_Q/lib/python3.7/site-packages/sklearn/utils/deprecation.py:144: FutureWarning: The sklearn.linear_model.base module is  deprecated in version 0.22 and will be removed in version 0.24. The corresponding classes / functions should instead be imported from sklearn.linear_model. Anything that cannot be imported from sklearn.linear_model is now part of the private API.\n",
      "  warnings.warn(message, FutureWarning)\n"
     ]
    },
    {
     "data": {
      "text/html": [
       "        <script type=\"text/javascript\">\n",
       "        window.PlotlyConfig = {MathJaxConfig: 'local'};\n",
       "        if (window.MathJax) {MathJax.Hub.Config({SVG: {font: \"STIX-Web\"}});}\n",
       "        if (typeof require !== 'undefined') {\n",
       "        require.undef(\"plotly\");\n",
       "        requirejs.config({\n",
       "            paths: {\n",
       "                'plotly': ['https://cdn.plot.ly/plotly-latest.min']\n",
       "            }\n",
       "        });\n",
       "        require(['plotly'], function(Plotly) {\n",
       "            window._Plotly = Plotly;\n",
       "        });\n",
       "        }\n",
       "        </script>\n",
       "        "
      ]
     },
     "metadata": {},
     "output_type": "display_data"
    }
   ],
   "source": [
    "import nilearn.image, nilearn.decoding\n",
    "import nibabel as nib\n",
    "import numpy as np\n",
    "import numpy.linalg as linalg\n",
    "import pandas as pd\n",
    "import seaborn as sns\n",
    "import matplotlib.pyplot as plt\n",
    "import plotly.graph_objects as go\n",
    "from plotly.subplots import make_subplots\n",
    "import scipy.stats as stats\n",
    "import plotly.express as px #interactive-plot\n",
    "from tqdm import tqdm # precessing-bar\n",
    "import cufflinks as cf\n",
    "from plotly.offline import iplot\n",
    "cf.go_offline()"
   ]
  },
  {
   "cell_type": "code",
   "execution_count": 2,
   "metadata": {},
   "outputs": [],
   "source": [
    "ROInames=pd.read_csv('fan280_fullname.csv',header=None)"
   ]
  },
  {
   "cell_type": "code",
   "execution_count": 3,
   "metadata": {},
   "outputs": [],
   "source": [
    "def extract_mask_ROI(ROI):\n",
    "    maskROIs = ROInames[ROInames.rename(columns={0:\"ROI\"})\\\n",
    "                        .ROI.str.contains(pat=ROI, regex=False)]\n",
    "    return list(maskROIs.index)\n",
    "def num2str3(num):\n",
    "    numstr=str(num)\n",
    "    zerolen=3-len(numstr)\n",
    "    str3='0'*zerolen+numstr\n",
    "    return str3"
   ]
  },
  {
   "cell_type": "code",
   "execution_count": 4,
   "metadata": {},
   "outputs": [],
   "source": [
    "mask_ROIn=[]\n",
    "# ROIname=['thalamus','basal','hipp','amyg']\n",
    "ROIname=['parahippocamp']\n",
    "for roi in ROIname:\n",
    "    mask_ROIn=mask_ROIn+extract_mask_ROI(roi)\n",
    "    \n",
    "mask_ROIs=list(set(mask_ROIn))"
   ]
  },
  {
   "cell_type": "code",
   "execution_count": 5,
   "metadata": {},
   "outputs": [
    {
     "data": {
      "text/plain": [
       "12"
      ]
     },
     "execution_count": 5,
     "metadata": {},
     "output_type": "execute_result"
    }
   ],
   "source": [
    "len(mask_ROIs)"
   ]
  },
  {
   "cell_type": "code",
   "execution_count": 15,
   "metadata": {},
   "outputs": [
    {
     "data": {
      "text/html": [
       "<div>\n",
       "<style scoped>\n",
       "    .dataframe tbody tr th:only-of-type {\n",
       "        vertical-align: middle;\n",
       "    }\n",
       "\n",
       "    .dataframe tbody tr th {\n",
       "        vertical-align: top;\n",
       "    }\n",
       "\n",
       "    .dataframe thead th {\n",
       "        text-align: right;\n",
       "    }\n",
       "</style>\n",
       "<table border=\"1\" class=\"dataframe\">\n",
       "  <thead>\n",
       "    <tr style=\"text-align: right;\">\n",
       "      <th></th>\n",
       "      <th>0</th>\n",
       "    </tr>\n",
       "  </thead>\n",
       "  <tbody>\n",
       "    <tr>\n",
       "      <th>230</th>\n",
       "      <td>Lt. thalamus (mPFtha, medial prefrontal thalamus)</td>\n",
       "    </tr>\n",
       "    <tr>\n",
       "      <th>231</th>\n",
       "      <td>Rt. thalamus (mPFtha, medial prefrontal thalamus)</td>\n",
       "    </tr>\n",
       "    <tr>\n",
       "      <th>232</th>\n",
       "      <td>Lt. thalamus (mPMtha, premotor thalamus)</td>\n",
       "    </tr>\n",
       "    <tr>\n",
       "      <th>233</th>\n",
       "      <td>Rt. thalamus (mPMtha, premotor thalamus)</td>\n",
       "    </tr>\n",
       "    <tr>\n",
       "      <th>234</th>\n",
       "      <td>Lt. thalamus (Stha, sensory thalamus)</td>\n",
       "    </tr>\n",
       "    <tr>\n",
       "      <th>235</th>\n",
       "      <td>Rt. thalamus (Stha, sensory thalamus)</td>\n",
       "    </tr>\n",
       "    <tr>\n",
       "      <th>236</th>\n",
       "      <td>Lt. thalamus (rTha, rostral temporal thalamus)</td>\n",
       "    </tr>\n",
       "    <tr>\n",
       "      <th>237</th>\n",
       "      <td>Rt. thalamus (rTha, rostral temporal thalamus)</td>\n",
       "    </tr>\n",
       "    <tr>\n",
       "      <th>238</th>\n",
       "      <td>Lt. thalamus (PPtha, posterior parietal thalamus)</td>\n",
       "    </tr>\n",
       "    <tr>\n",
       "      <th>239</th>\n",
       "      <td>Rt. thalamus (PPtha, posterior parietal thalamus)</td>\n",
       "    </tr>\n",
       "    <tr>\n",
       "      <th>240</th>\n",
       "      <td>Lt. thalamus (Otha, occipital thalamus)</td>\n",
       "    </tr>\n",
       "    <tr>\n",
       "      <th>241</th>\n",
       "      <td>Rt. thalamus (Otha, occipital thalamus)</td>\n",
       "    </tr>\n",
       "    <tr>\n",
       "      <th>242</th>\n",
       "      <td>Lt. thalamus (cTha, caudal temporal thalamus)</td>\n",
       "    </tr>\n",
       "    <tr>\n",
       "      <th>243</th>\n",
       "      <td>Rt. thalamus (cTha, caudal temporal thalamus)</td>\n",
       "    </tr>\n",
       "    <tr>\n",
       "      <th>244</th>\n",
       "      <td>Lt. thalamus (lPFtha, lateral prefrontal thala...</td>\n",
       "    </tr>\n",
       "    <tr>\n",
       "      <th>245</th>\n",
       "      <td>Rt. thalamus (lPFtha, lateral prefrontal thala...</td>\n",
       "    </tr>\n",
       "    <tr>\n",
       "      <th>273</th>\n",
       "      <td>Hypothalamus</td>\n",
       "    </tr>\n",
       "  </tbody>\n",
       "</table>\n",
       "</div>"
      ],
      "text/plain": [
       "                                                     0\n",
       "230  Lt. thalamus (mPFtha, medial prefrontal thalamus)\n",
       "231  Rt. thalamus (mPFtha, medial prefrontal thalamus)\n",
       "232           Lt. thalamus (mPMtha, premotor thalamus)\n",
       "233           Rt. thalamus (mPMtha, premotor thalamus)\n",
       "234              Lt. thalamus (Stha, sensory thalamus)\n",
       "235              Rt. thalamus (Stha, sensory thalamus)\n",
       "236     Lt. thalamus (rTha, rostral temporal thalamus)\n",
       "237     Rt. thalamus (rTha, rostral temporal thalamus)\n",
       "238  Lt. thalamus (PPtha, posterior parietal thalamus)\n",
       "239  Rt. thalamus (PPtha, posterior parietal thalamus)\n",
       "240            Lt. thalamus (Otha, occipital thalamus)\n",
       "241            Rt. thalamus (Otha, occipital thalamus)\n",
       "242      Lt. thalamus (cTha, caudal temporal thalamus)\n",
       "243      Rt. thalamus (cTha, caudal temporal thalamus)\n",
       "244  Lt. thalamus (lPFtha, lateral prefrontal thala...\n",
       "245  Rt. thalamus (lPFtha, lateral prefrontal thala...\n",
       "273                                       Hypothalamus"
      ]
     },
     "execution_count": 15,
     "metadata": {},
     "output_type": "execute_result"
    }
   ],
   "source": [
    "ROInames[ROInames.rename(columns={0:\"ROI\"})\\\n",
    "                        .ROI.str.contains(pat=\"thalamus\", regex=False)]"
   ]
  },
  {
   "cell_type": "code",
   "execution_count": 6,
   "metadata": {},
   "outputs": [],
   "source": [
    "mask_dir = f'/Volumes/clmnlab/G7T/main/fmri_data/masks/Fan/Fan_resam{num2str3(mask_ROIs[0])}.nii'\n",
    "mask_img = nilearn.image.load_img(mask_dir)\n",
    "total_mask=mask_img.get_fdata()\n",
    "for i in range(1,len(mask_ROIs)):\n",
    "    mask_dir = f'/Volumes/clmnlab/G7T/main/fmri_data/masks/Fan/Fan_resam{num2str3(mask_ROIs[i])}.nii'\n",
    "    mask_img = nilearn.image.load_img(mask_dir)\n",
    "    total_mask=total_mask+mask_img.get_fdata()"
   ]
  },
  {
   "cell_type": "code",
   "execution_count": 8,
   "metadata": {},
   "outputs": [],
   "source": [
    "total_mask[total_mask>1]=1\n",
    "total_mask\n",
    "nib.Nifti1Image(total_mask,mask_img.affine).to_filename('test2.nii')"
   ]
  },
  {
   "cell_type": "code",
   "execution_count": 17,
   "metadata": {},
   "outputs": [
    {
     "data": {
      "text/plain": [
       "110336.0"
      ]
     },
     "execution_count": 17,
     "metadata": {},
     "output_type": "execute_result"
    }
   ],
   "source": [
    "np.sum(total_mask)"
   ]
  },
  {
   "cell_type": "code",
   "execution_count": 21,
   "metadata": {},
   "outputs": [
    {
     "data": {
      "text/plain": [
       "(193, 229, 193)"
      ]
     },
     "execution_count": 21,
     "metadata": {},
     "output_type": "execute_result"
    }
   ],
   "source": [
    "total_mask.shape"
   ]
  },
  {
   "cell_type": "code",
   "execution_count": null,
   "metadata": {},
   "outputs": [],
   "source": [
    "plotting.view_img"
   ]
  }
 ],
 "metadata": {
  "kernelspec": {
   "display_name": "Python 3.7.6 64-bit ('npy3_Q': conda)",
   "language": "python",
   "name": "python37664bitnpy3qconda2dd8e4bc208140c08cfd7e09272d1c1a"
  },
  "language_info": {
   "codemirror_mode": {
    "name": "ipython",
    "version": 3
   },
   "file_extension": ".py",
   "mimetype": "text/x-python",
   "name": "python",
   "nbconvert_exporter": "python",
   "pygments_lexer": "ipython3",
   "version": "3.7.6"
  }
 },
 "nbformat": 4,
 "nbformat_minor": 4
}
