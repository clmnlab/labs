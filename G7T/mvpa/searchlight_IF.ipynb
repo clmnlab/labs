{
 "cells": [
  {
   "cell_type": "code",
   "execution_count": 1,
   "metadata": {},
   "outputs": [
    {
     "name": "stderr",
     "output_type": "stream",
     "text": [
      "/opt/anaconda3/envs/npy3_Q/lib/python3.7/site-packages/sklearn/utils/deprecation.py:144: FutureWarning: The sklearn.linear_model.base module is  deprecated in version 0.22 and will be removed in version 0.24. The corresponding classes / functions should instead be imported from sklearn.linear_model. Anything that cannot be imported from sklearn.linear_model is now part of the private API.\n",
      "  warnings.warn(message, FutureWarning)\n"
     ]
    }
   ],
   "source": [
    "import nilearn.image, nilearn.decoding\n",
    "import numpy as np\n",
    "import pandas as pd\n",
    "import nibabel as nib\n",
    "import scipy.stats as stats\n",
    "from sklearn.model_selection import GroupKFold\n",
    "from sklearn.svm import LinearSVC\n",
    "from tqdm import tqdm # precessing-bar\n",
    "\n",
    "# import matplotlib.pyplot as plt\n",
    "# import plotly.graph_objects as go\n",
    "# from plotly.subplots import make_subplots\n",
    "# import plotly.express as px #interactive-plot\n",
    "# import cufflinks as cf\n",
    "# from plotly.offline import iplot\n",
    "# cf.go_offline()"
   ]
  },
  {
   "cell_type": "code",
   "execution_count": 2,
   "metadata": {},
   "outputs": [],
   "source": [
    "# Ver. Local\n",
    "# python >= 3.6 -> fString\n",
    "\n",
    "fmri_dir='/Volumes/clmnlab/G7T/main/fmri_data'\n",
    "\n",
    "def getColPos_IF(subj_id,df=False):\n",
    "    ex_group= {'WG_P1P2' : ['IF02', 'IF03', 'IF04', 'IF07'],\n",
    "               'WG_P2P1' : ['IF05', 'IF06', 'IF08', 'IF10'],\n",
    "               'GW_P1P2' : ['IF12', 'IF15'],\n",
    "               'GW_P2P1' : ['IF13', 'IF14']}\n",
    "    if df:\n",
    "        ex_color={'WG':['White','Gray','White','Gray'],'GW':['Gray','White','Gray','White']}\n",
    "        ex_pos={'P1P2':['x','x','+','+'],'P2P1':['+','+','x','x']}\n",
    "    else:\n",
    "        ex_color={'WG':[0,1,0,1],'GW':[1,0,1,0]}\n",
    "        ex_pos={'P1P2':[0,0,1,1],'P2P1':[1,1,0,0]}\n",
    "    ColPos=[keys for keys in ex_group if subj_id in ex_group[keys]][0]\n",
    "    color=ex_color[ColPos[:2]]\n",
    "    pos=ex_pos[ColPos[3:]]\n",
    "    return color, pos\n",
    "\n",
    "def load_Beta_IF(subj_id, run_n):\n",
    "    data_dir=f'{fmri_dir}/glm_results/G7T_{subj_id}/LSSpb04_unmask/betasLSS.G7T_{subj_id}.run0{run_n}.nii.gz'\n",
    "    img = nilearn.image.load_img(data_dir)\n",
    "    return img\n",
    "\n",
    "def load_Behavior_IF(subj_id, run_n):\n",
    "    group_id=subj_id[0:2]\n",
    "    Subj_id=group_id+subj_id[-2:]\n",
    "    EL = subj_id[2]\n",
    "    regressor_dir=f'{fmri_dir}/regressors/G7T_{group_id}/G7T_{subj_id}/totalReward_run0{run_n}.txt'\n",
    "    hit_Dat=pd.read_csv(regressor_dir,sep=' ',header=None).T.rename(columns={0:'hit'})\n",
    "    handpos=pd.DataFrame({'hand':['R']*(len(hit_Dat)),\n",
    "                          'position':[0,0,1,1]*(len(hit_Dat)//4),\n",
    "                          'trial':np.repeat(list(range(1,21)),2),\n",
    "                          'mapping':[0,1,0,1]*(len(hit_Dat)//4),\n",
    "                         'EarlyLate':[EL]*len(hit_Dat)})\n",
    "    [group_color,group_position]=getColPos_IF(Subj_id,True)\n",
    "    colpos=pd.DataFrame({'colorGroup':group_color*(len(hit_Dat)//4),'posGroup':group_position*(len(hit_Dat)//4)})\n",
    "    y_dat=pd.concat([hit_Dat,handpos,colpos],axis=1)\n",
    "    return y_dat\n",
    "\n",
    "def totalize_behaviorIF(subj_id, runlist):\n",
    "    bavDat=load_BehaviorIF(subj_id, runlist[0]).assign(session=runlist[0])\n",
    "    for i in runlist[1:]:\n",
    "        bavDat0=load_BehaviorIF(subj_id, i).assign(session=i)\n",
    "        bavDat=pd.concat([bavDat,bavDat0])\n",
    "    return bavDat\n",
    "\n",
    "def get_XYG_IF(subj_id, runlist,target):\n",
    "    Xs = [load_Beta_IF(subj_id, run) for run in runlist]\n",
    "    Ys = [load_HitN_IF(subj_id, run, target) for run in runlist]\n",
    "    \n",
    "    group = [i for i, y in enumerate(Ys) for j in range(len(y))]\n",
    "    \n",
    "    xDat = nilearn.image.concat_imgs(Xs)\n",
    "    yDat = np.concatenate(Ys)\n",
    "    \n",
    "    assert xDat.shape[-1] == yDat.shape[0]\n",
    "    assert yDat.shape[0] == len(group)\n",
    "    \n",
    "    return xDat, yDat, group\n",
    "\n",
    "# ROI Fan Mask Setting\n",
    "def num2str3(num):\n",
    "    numstr=str(num)\n",
    "    zerolen=3-len(numstr)\n",
    "    str3='0'*zerolen+numstr\n",
    "    return str3\n",
    "fanlist=['Fan_resam'+num2str3(i)+'.nii' for i in range(1,281)]\n",
    "\n",
    "def fast_masking(img, roi):\n",
    "    img_data = img.get_fdata()\n",
    "    roi_mask = roi.get_fdata().astype(bool)\n",
    "    \n",
    "    if img_data.shape[:3] != roi_mask.shape:\n",
    "        raise ValueError(f'different shape while masking! img={img_data.shape} and roi={roi_mask.shape}')\n",
    "    return img_data[roi_mask, :].T\n",
    "\n",
    "def load_HitN_IF(subj_id, run_n, target):\n",
    "    group_id=subj_id[0:2]\n",
    "    regressor_dir=f'{fmri_dir}/regressors/G7T_{group_id}/G7T_{subj_id}/totalReward_run0{run_n}.txt'\n",
    "    hit_Dat=pd.read_csv(regressor_dir,sep=' ',header=None).T.rename(columns={0:'hit'})\n",
    "    handpos=pd.DataFrame({'mapping':[0,1,0,1]*(len(hit_Dat)//4),'position':[0,0,1,1]*(len(hit_Dat)//4),'trial':np.repeat(list(range(1,21)),2)})\n",
    "    [group_color,group_position]=getColPos_IF(group_id+subj_id[-2:])\n",
    "    colpos=pd.DataFrame({'colorGroup':group_color*(len(hit_Dat)//4),'posGroup':group_position*(len(hit_Dat)//4)})\n",
    "    y_dat=pd.concat([hit_Dat,handpos,colpos],axis=1)\n",
    "    \n",
    "    return list(y_dat[target])"
   ]
  },
  {
   "cell_type": "code",
   "execution_count": 7,
   "metadata": {},
   "outputs": [],
   "source": [
    "X,Y,group=get_XYG_IF('IFE02',list(range(1,7)),'mapping')"
   ]
  },
  {
   "cell_type": "code",
   "execution_count": 3,
   "metadata": {},
   "outputs": [],
   "source": [
    "def run_searchlight(fmri_mask, X, y, group, estimator, group_k, radius, chance_level):\n",
    "    cv = GroupKFold(group_k)\n",
    "\n",
    "    searchlight = nilearn.decoding.SearchLight(\n",
    "        fmri_mask,\n",
    "        radius=radius,\n",
    "        estimator=estimator,\n",
    "        n_jobs=4,\n",
    "        verbose=False,\n",
    "        cv=cv,\n",
    "        scoring='balanced_accuracy'\n",
    "    )\n",
    "\n",
    "    searchlight.fit(X, y, group)\n",
    "    scores = searchlight.scores_ - chance_level\n",
    "\n",
    "    return nilearn.image.new_img_like(fmri_mask, scores)"
   ]
  },
  {
   "cell_type": "code",
   "execution_count": 6,
   "metadata": {},
   "outputs": [
    {
     "name": "stderr",
     "output_type": "stream",
     "text": [
      "  6%|▋         | 1/16 [51:30<12:52:38, 3090.57s/it]"
     ]
    },
    {
     "name": "stdout",
     "output_type": "stream",
     "text": [
      "IFE02 finished\n"
     ]
    },
    {
     "name": "stderr",
     "output_type": "stream",
     "text": [
      "\r",
      " 12%|█▎        | 2/16 [2:01:52<13:20:20, 3430.05s/it]"
     ]
    },
    {
     "name": "stdout",
     "output_type": "stream",
     "text": [
      "IFL02 finished\n"
     ]
    },
    {
     "name": "stderr",
     "output_type": "stream",
     "text": [
      "\r",
      " 19%|█▉        | 3/16 [2:58:59<12:22:59, 3429.16s/it]"
     ]
    },
    {
     "name": "stdout",
     "output_type": "stream",
     "text": [
      "IFE03 finished\n"
     ]
    },
    {
     "name": "stderr",
     "output_type": "stream",
     "text": [
      "\r",
      " 25%|██▌       | 4/16 [5:42:38<17:49:11, 5345.98s/it]"
     ]
    },
    {
     "name": "stdout",
     "output_type": "stream",
     "text": [
      "IFL03 finished\n"
     ]
    },
    {
     "name": "stderr",
     "output_type": "stream",
     "text": [
      "\r",
      " 31%|███▏      | 5/16 [6:55:33<15:26:43, 5054.83s/it]"
     ]
    },
    {
     "name": "stdout",
     "output_type": "stream",
     "text": [
      "IFE05 finished\n"
     ]
    },
    {
     "name": "stderr",
     "output_type": "stream",
     "text": [
      "\r",
      " 38%|███▊      | 6/16 [9:48:21<18:28:05, 6648.54s/it]"
     ]
    },
    {
     "name": "stdout",
     "output_type": "stream",
     "text": [
      "IFL05 finished\n"
     ]
    },
    {
     "name": "stderr",
     "output_type": "stream",
     "text": [
      "\r",
      " 44%|████▍     | 7/16 [10:28:33<13:26:40, 5377.79s/it]"
     ]
    },
    {
     "name": "stdout",
     "output_type": "stream",
     "text": [
      "IFE06 finished\n"
     ]
    },
    {
     "name": "stderr",
     "output_type": "stream",
     "text": [
      "\r",
      " 50%|█████     | 8/16 [11:31:05<10:51:59, 4889.96s/it]"
     ]
    },
    {
     "name": "stdout",
     "output_type": "stream",
     "text": [
      "IFL06 finished\n"
     ]
    },
    {
     "name": "stderr",
     "output_type": "stream",
     "text": [
      "\r",
      " 56%|█████▋    | 9/16 [12:35:26<8:54:29, 4581.41s/it] "
     ]
    },
    {
     "name": "stdout",
     "output_type": "stream",
     "text": [
      "IFE07 finished\n"
     ]
    },
    {
     "name": "stderr",
     "output_type": "stream",
     "text": [
      "\r",
      " 62%|██████▎   | 10/16 [13:30:50<7:00:24, 4204.13s/it]"
     ]
    },
    {
     "name": "stdout",
     "output_type": "stream",
     "text": [
      "IFL07 finished\n"
     ]
    },
    {
     "name": "stderr",
     "output_type": "stream",
     "text": [
      "\r",
      " 69%|██████▉   | 11/16 [15:04:42<6:26:01, 4632.38s/it]"
     ]
    },
    {
     "name": "stdout",
     "output_type": "stream",
     "text": [
      "IFE08 finished\n"
     ]
    },
    {
     "name": "stderr",
     "output_type": "stream",
     "text": [
      "\r",
      " 75%|███████▌  | 12/16 [16:04:24<4:47:49, 4317.43s/it]"
     ]
    },
    {
     "name": "stdout",
     "output_type": "stream",
     "text": [
      "IFL08 finished\n"
     ]
    },
    {
     "name": "stderr",
     "output_type": "stream",
     "text": [
      "\r",
      " 81%|████████▏ | 13/16 [17:55:07<4:10:44, 5014.90s/it]"
     ]
    },
    {
     "name": "stdout",
     "output_type": "stream",
     "text": [
      "IFE13 finished\n"
     ]
    },
    {
     "name": "stderr",
     "output_type": "stream",
     "text": [
      "\r",
      " 88%|████████▊ | 14/16 [21:05:03<3:50:58, 6929.23s/it]"
     ]
    },
    {
     "name": "stdout",
     "output_type": "stream",
     "text": [
      "IFL13 finished\n"
     ]
    },
    {
     "name": "stderr",
     "output_type": "stream",
     "text": [
      "\r",
      " 94%|█████████▍| 15/16 [22:45:01<1:50:50, 6650.06s/it]"
     ]
    },
    {
     "name": "stdout",
     "output_type": "stream",
     "text": [
      "IFE15 finished\n"
     ]
    },
    {
     "name": "stderr",
     "output_type": "stream",
     "text": [
      "100%|██████████| 16/16 [25:05:34<00:00, 5645.90s/it]  "
     ]
    },
    {
     "name": "stdout",
     "output_type": "stream",
     "text": [
      "IFL15 finished\n"
     ]
    },
    {
     "name": "stderr",
     "output_type": "stream",
     "text": [
      "\n"
     ]
    }
   ],
   "source": [
    "subj_list = ['IFE02','IFL02','IFE03','IFL03','IFE05','IFL05','IFE06','IFL06','IFE07','IFL07','IFE08','IFL08','IFE13','IFL13','IFE15','IFL15']\n",
    "runlist = [1,2,3,4,5,6]\n",
    "for subj in tqdm(subj_list):\n",
    "    estimator = LinearSVC(max_iter=1e5)\n",
    "    estimator_name = 'svc'\n",
    "    radius = 5  # 적절한 크기를 사용하세요.\n",
    "#     mask_dir = f'/Volumes/clmnlab/G7T/pilot/fmri_data/preproc_data/7T_anat/G7T_{subj}/full_mask.G7T_{subj}.nii.gz'\n",
    "    mask_dir = 'test2.nii'\n",
    "    mask_img = nilearn.image.load_img(mask_dir)\n",
    "\n",
    "    X, y, group = get_XYG_IF(subj, runlist,'mapping')\n",
    "\n",
    "    searchlight_img = run_searchlight(mask_img, X, y, group, group_k=6, estimator=estimator, radius=radius, chance_level=1/2)\n",
    "    searchlight_img.to_filename(f'{subj}_r{radius}_{estimator_name}_parahippocam.nii.gz')\n",
    "    print(f\"{subj} finished\")"
   ]
  },
  {
   "cell_type": "code",
   "execution_count": null,
   "metadata": {},
   "outputs": [
    {
     "name": "stderr",
     "output_type": "stream",
     "text": [
      "  6%|▋         | 1/16 [8:14:03<123:30:49, 29643.29s/it]"
     ]
    },
    {
     "name": "stdout",
     "output_type": "stream",
     "text": [
      "IFE02 finished\n"
     ]
    },
    {
     "name": "stderr",
     "output_type": "stream",
     "text": [
      "\r",
      " 12%|█▎        | 2/16 [13:59:14<104:51:30, 26963.62s/it]"
     ]
    },
    {
     "name": "stdout",
     "output_type": "stream",
     "text": [
      "IFL02 finished\n"
     ]
    },
    {
     "name": "stderr",
     "output_type": "stream",
     "text": [
      "\r",
      " 19%|█▉        | 3/16 [19:11:28<88:27:10, 24494.64s/it] "
     ]
    },
    {
     "name": "stdout",
     "output_type": "stream",
     "text": [
      "IFE03 finished\n"
     ]
    },
    {
     "name": "stderr",
     "output_type": "stream",
     "text": [
      "\r",
      " 25%|██▌       | 4/16 [34:16:49<111:28:30, 33442.58s/it]"
     ]
    },
    {
     "name": "stdout",
     "output_type": "stream",
     "text": [
      "IFL03 finished\n"
     ]
    },
    {
     "name": "stderr",
     "output_type": "stream",
     "text": [
      "\r",
      " 31%|███▏      | 5/16 [37:36:44<82:31:31, 27008.36s/it] "
     ]
    },
    {
     "name": "stdout",
     "output_type": "stream",
     "text": [
      "IFE05 finished\n"
     ]
    },
    {
     "name": "stderr",
     "output_type": "stream",
     "text": [
      "\r",
      " 38%|███▊      | 6/16 [40:05:11<59:56:20, 21578.04s/it]"
     ]
    },
    {
     "name": "stdout",
     "output_type": "stream",
     "text": [
      "IFL05 finished\n"
     ]
    },
    {
     "name": "stderr",
     "output_type": "stream",
     "text": [
      "\r",
      " 44%|████▍     | 7/16 [43:30:44<47:00:41, 18804.62s/it]"
     ]
    },
    {
     "name": "stdout",
     "output_type": "stream",
     "text": [
      "IFE06 finished\n"
     ]
    },
    {
     "name": "stderr",
     "output_type": "stream",
     "text": [
      "\r",
      " 50%|█████     | 8/16 [47:15:23<38:14:15, 17206.93s/it]"
     ]
    },
    {
     "name": "stdout",
     "output_type": "stream",
     "text": [
      "IFL06 finished\n"
     ]
    },
    {
     "name": "stderr",
     "output_type": "stream",
     "text": [
      "\r",
      " 56%|█████▋    | 9/16 [52:51:01<35:10:03, 18086.19s/it]"
     ]
    },
    {
     "name": "stdout",
     "output_type": "stream",
     "text": [
      "IFE07 finished\n"
     ]
    }
   ],
   "source": [
    "subj_list = ['IFE02','IFL02','IFE03','IFL03','IFE05','IFL05','IFE06','IFL06','IFE07','IFL07','IFE08','IFL08','IFE13','IFL13','IFE15','IFL15']\n",
    "runlist = [1,2,3,4,5,6]\n",
    "for subj in tqdm(subj_list):\n",
    "    estimator = LinearSVC(max_iter=1e5)\n",
    "    estimator_name = 'svc'\n",
    "    radius = 5  # 적절한 크기를 사용하세요.\n",
    "    mask_dir = '/Volumes/clmnlab/G7T/main/fmri_data/masks/Cerebellum/mask.Cerebellum.nii.gz'\n",
    "    mask_img = nilearn.image.load_img(mask_dir)\n",
    "\n",
    "    X, y, group = get_XYG_IF(subj, runlist,'mapping')\n",
    "\n",
    "    searchlight_img = run_searchlight(mask_img, X, y, group, group_k=6, estimator=estimator, radius=radius, chance_level=1/2)\n",
    "    searchlight_img.to_filename(f'{subj}_r{radius}_{estimator_name}_cereb.nii.gz')\n",
    "    print(f\"{subj} finished\")"
   ]
  }
 ],
 "metadata": {
  "kernelspec": {
   "display_name": "Python 3.7.6 64-bit ('npy3_Q': conda)",
   "language": "python",
   "name": "python37664bitnpy3qconda2dd8e4bc208140c08cfd7e09272d1c1a"
  },
  "language_info": {
   "codemirror_mode": {
    "name": "ipython",
    "version": 3
   },
   "file_extension": ".py",
   "mimetype": "text/x-python",
   "name": "python",
   "nbconvert_exporter": "python",
   "pygments_lexer": "ipython3",
   "version": "3.7.6"
  }
 },
 "nbformat": 4,
 "nbformat_minor": 4
}
