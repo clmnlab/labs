{
 "cells": [
  {
   "cell_type": "code",
   "execution_count": 1,
   "metadata": {},
   "outputs": [],
   "source": [
    "format compact"
   ]
  },
  {
   "cell_type": "code",
   "execution_count": 2,
   "metadata": {},
   "outputs": [
    {
     "name": "stdout",
     "output_type": "stream",
     "text": [
      "경고: 함수 isrow의 이름이 MATLAB 기본 제공 함수와 동일합니다. 함수 이름이 충돌할 가능성을 배제하기 위해 이름을 바꾸는 것이 좋습니다.\n",
      "> In path (line 109)\n",
      "  In addpath (line 96)\n",
      "경고: 함수 count의 이름이 MATLAB 기본 제공 함수와 동일합니다. 함수 이름이 충돌할 가능성을 배제하기 위해 이름을 바꾸는 것이 좋습니다.\n",
      "> In path (line 109)\n",
      "  In addpath (line 96)\n"
     ]
    }
   ],
   "source": [
    "addpath(genpath('/Users/eyshin/Documents/Research/libs'))"
   ]
  },
  {
   "cell_type": "code",
   "execution_count": 3,
   "metadata": {},
   "outputs": [],
   "source": [
    "% initialize\n",
    "\n",
    "subj_list = {\n",
    "    'IN04' 'IN05' 'IN07' 'IN09' 'IN10' 'IN11' ...\n",
    "    'IN12' 'IN13' 'IN14' 'IN15' 'IN16' 'IN17' ...\n",
    "    'IN18' 'IN23' 'IN24' 'IN25' 'IN26' 'IN28' ...\n",
    "    'IN29' 'IN30' 'IN31' 'IN32' 'IN33' 'IN34' ...\n",
    "    'IN35' 'IN38' 'IN39' 'IN40' 'IN41' 'IN42' ...\n",
    "    'IN43' 'IN45' 'IN46' \n",
    "    };\n",
    "    \n",
    "NUM_SUBJ = length(subj_list);"
   ]
  },
  {
   "cell_type": "code",
   "execution_count": 4,
   "metadata": {},
   "outputs": [
    {
     "name": "stdout",
     "output_type": "stream",
     "text": [
      "IN04\n",
      "IN05\n",
      "IN07\n",
      "IN09\n",
      "IN10\n",
      "IN11\n",
      "IN12\n",
      "IN13\n",
      "IN14\n",
      "IN15\n",
      "IN16\n",
      "IN17\n",
      "IN18\n",
      "IN23\n",
      "IN24\n",
      "IN25\n",
      "IN26\n",
      "IN28\n",
      "IN29\n",
      "IN30\n",
      "IN31\n",
      "IN32\n",
      "IN33\n",
      "IN34\n",
      "IN35\n",
      "IN38\n",
      "IN39\n",
      "IN40\n",
      "IN41\n",
      "IN42\n",
      "IN43\n",
      "IN45\n",
      "IN46\n"
     ]
    }
   ],
   "source": [
    "% load beta images\n",
    "\n",
    "beta_dir = '/Users/eyshin/Documents/Research/IN/data/Betas_33subj/';\n",
    "\n",
    "beta_data = cell(NUM_SUBJ, 5);\n",
    "\n",
    "for i = 1:NUM_SUBJ\n",
    "    load([beta_dir subj_list{i} '_Betas.mat'])\n",
    "    \n",
    "    beta_data{i, 1} = betas{3};\n",
    "    beta_data{i, 2} = betas{4};\n",
    "    beta_data{i, 3} = betas{5};\n",
    "    beta_data{i, 4} = betas{6};\n",
    "    beta_data{i, 5} = betas{7};\n",
    "    disp(subj_list{i})\n",
    "end"
   ]
  },
  {
   "cell_type": "code",
   "execution_count": 17,
   "metadata": {},
   "outputs": [
    {
     "name": "stdout",
     "output_type": "stream",
     "text": [
      "IN04\n",
      "IN05\n",
      "IN07\n",
      "IN09\n",
      "IN10\n",
      "IN11\n",
      "IN12\n",
      "IN13\n",
      "IN14\n",
      "IN15\n",
      "IN16\n",
      "IN17\n",
      "IN18\n",
      "IN23\n",
      "IN24\n",
      "IN25\n",
      "IN26\n",
      "IN28\n",
      "IN29\n",
      "IN30\n",
      "IN31\n",
      "IN32\n",
      "IN33\n",
      "IN34\n",
      "IN35\n",
      "IN38\n",
      "IN39\n",
      "IN40\n",
      "IN41\n",
      "IN42\n",
      "IN43\n",
      "IN45\n",
      "IN46\n"
     ]
    }
   ],
   "source": [
    "% save beta images\n",
    "\n",
    "img_size = [91 109 91];\n",
    "%ref_img = load_untouch_nii([beta_dir 'full_mask.group33.nii.gz']);\n",
    "\n",
    "for i = (1:NUM_SUBJ)\n",
    "    for k = (1:3)\n",
    "        beta = beta_data{i, k};\n",
    "        locations = beta_data{i, 4};\n",
    "        slice_num = size(beta);\n",
    "        slice_num = slice_num(2);\n",
    "        \n",
    "        beta_img = zeros([img_size slice_num]);\n",
    "\n",
    "        for l = (1:length(locations))\n",
    "            x = locations(l, 1)-1;\n",
    "            y = locations(l, 2)-1;\n",
    "            z = locations(l, 3)-1;\n",
    "\n",
    "            beta_img(x, y, z, :) = beta(l, 1:slice_num);\n",
    "        end\n",
    "        \n",
    "        beta_nii = make_nii(beta_img, [2 2 2], [46.5 64.5 37.5], 16); \n",
    "        save_nii(beta_nii, ['/Users/eyshin/Documents/Research/IN/processed_data/' subj_list{i} '_' int2str(k) '.nii']); % would work nii.gz?\n",
    "    end\n",
    "    \n",
    "    disp(subj_list{i})\n",
    "end"
   ]
  },
  {
   "cell_type": "code",
   "execution_count": 19,
   "metadata": {},
   "outputs": [],
   "source": [
    "!gzip /Users/eyshin/Documents/Research/IN/processed_data/*.nii"
   ]
  },
  {
   "cell_type": "code",
   "execution_count": 36,
   "metadata": {},
   "outputs": [],
   "source": [
    "% load and save behavioral data\n",
    "\n",
    "label_dir = '/Users/eyshin/Documents/Research/IN/data/movLabel/';\n",
    "result_dir = '/Users/eyshin/Documents/Research/IN/processed_data/';\n",
    "\n",
    "for i = 1:NUM_SUBJ\n",
    "    load([label_dir subj_list{i} '_movlabel.mat']);\n",
    "    dlmwrite([result_dir subj_list{i} '_run3_move.csv'], train_mov');\n",
    "    dlmwrite([result_dir subj_list{i} '_run5_move.csv'], test_mov');\n",
    "end"
   ]
  },
  {
   "cell_type": "code",
   "execution_count": null,
   "metadata": {},
   "outputs": [],
   "source": []
  }
 ],
 "metadata": {
  "kernelspec": {
   "display_name": "MATLAB",
   "language": "matlab",
   "name": "imatlab"
  },
  "language_info": {
   "codemirror_mode": "octave",
   "file_extension": ".m",
   "mimetype": "text/x-matlab",
   "name": "matlab",
   "nbconvert_exporter": "imatlab._exporter.MatlabExporter",
   "pygments_lexer": "matlab",
   "version": "9.4.0.813654 (R2018a)"
  }
 },
 "nbformat": 4,
 "nbformat_minor": 2
}
