{
 "cells": [
  {
   "cell_type": "markdown",
   "metadata": {},
   "source": [
    "# Initialize"
   ]
  },
  {
   "cell_type": "code",
   "execution_count": 1,
   "metadata": {},
   "outputs": [],
   "source": [
    "data_dir = '/Users/eyshin/Documents/Research/IN/processed_data/'\n",
    "result_dir = '/Users/eyshin/Documents/Research/IN/results/'\n",
    "\n",
    "subj_list = [\n",
    "    'IN04', 'IN05', 'IN07', 'IN09', 'IN10', 'IN11',\n",
    "    'IN12', 'IN13', 'IN14', 'IN15', 'IN16', 'IN17',\n",
    "    'IN18', 'IN23', 'IN24', 'IN25', 'IN26', 'IN28',\n",
    "    'IN29', 'IN30', 'IN31', 'IN32', 'IN33', 'IN34',\n",
    "    'IN35', 'IN38', 'IN39', 'IN40', 'IN41', 'IN42',\n",
    "    'IN43', 'IN45', 'IN46' \n",
    "]\n",
    "\n",
    "num_SUBJ = len(subj_list)"
   ]
  },
  {
   "cell_type": "markdown",
   "metadata": {},
   "source": [
    "# Statistical Test Header"
   ]
  },
  {
   "cell_type": "code",
   "execution_count": 2,
   "metadata": {},
   "outputs": [],
   "source": [
    "import numpy as np\n",
    "import nilearn.image\n",
    "import nilearn.mass_univariate"
   ]
  },
  {
   "cell_type": "code",
   "execution_count": 3,
   "metadata": {},
   "outputs": [],
   "source": [
    "# load mask file\n",
    "mask_path = data_dir + 'full_mask.group33.nii.gz'\n",
    "mask_img = nilearn.image.load_img(mask_path)\n",
    "mask = np.logical_not(mask_img.get_data().astype(np.bool))"
   ]
  },
  {
   "cell_type": "markdown",
   "metadata": {},
   "source": [
    "# GNB classifier results"
   ]
  },
  {
   "cell_type": "code",
   "execution_count": 4,
   "metadata": {},
   "outputs": [],
   "source": [
    "# load data\n",
    "\n",
    "scores_each_subject = []\n",
    "\n",
    "for subj in subj_list:\n",
    "    score = nilearn.image.load_img(result_dir + '%s_move_r3_gnb.nii.gz' % subj).get_data()\n",
    "    score_ma = np.ma.array(score, mask=mask)\n",
    "    scores_each_subject.append(score)\n",
    "    \n",
    "scores_each_subject = np.ma.array(scores_each_subject, mask=[mask for i in range(num_SUBJ)])"
   ]
  },
  {
   "cell_type": "code",
   "execution_count": 9,
   "metadata": {},
   "outputs": [
    {
     "name": "stdout",
     "output_type": "stream",
     "text": [
      "IN04: mean 0.50, median 0.50, std 0.04\n",
      "IN05: mean 0.49, median 0.49, std 0.04\n",
      "IN07: mean 0.52, median 0.52, std 0.05\n",
      "IN09: mean 0.52, median 0.52, std 0.04\n",
      "IN10: mean 0.52, median 0.52, std 0.03\n",
      "IN11: mean 0.47, median 0.46, std 0.05\n",
      "IN12: mean 0.47, median 0.47, std 0.06\n",
      "IN13: mean 0.50, median 0.50, std 0.05\n",
      "IN14: mean 0.49, median 0.49, std 0.05\n",
      "IN15: mean 0.48, median 0.48, std 0.05\n",
      "IN16: mean 0.52, median 0.53, std 0.06\n",
      "IN17: mean 0.51, median 0.51, std 0.05\n",
      "IN18: mean 0.50, median 0.50, std 0.05\n",
      "IN23: mean 0.50, median 0.50, std 0.04\n",
      "IN24: mean 0.49, median 0.49, std 0.05\n",
      "IN25: mean 0.53, median 0.53, std 0.05\n",
      "IN26: mean 0.47, median 0.47, std 0.05\n",
      "IN28: mean 0.51, median 0.51, std 0.05\n",
      "IN29: mean 0.50, median 0.50, std 0.03\n",
      "IN30: mean 0.50, median 0.50, std 0.05\n",
      "IN31: mean 0.54, median 0.54, std 0.03\n",
      "IN32: mean 0.51, median 0.51, std 0.01\n",
      "IN33: mean 0.52, median 0.52, std 0.05\n",
      "IN34: mean 0.50, median 0.50, std 0.05\n",
      "IN35: mean 0.50, median 0.50, std 0.05\n",
      "IN38: mean 0.51, median 0.51, std 0.04\n",
      "IN39: mean 0.50, median 0.50, std 0.05\n",
      "IN40: mean 0.50, median 0.50, std 0.06\n",
      "IN41: mean 0.49, median 0.50, std 0.05\n",
      "IN42: mean 0.51, median 0.51, std 0.05\n",
      "IN43: mean 0.49, median 0.49, std 0.05\n",
      "IN45: mean 0.52, median 0.52, std 0.05\n",
      "IN46: mean 0.47, median 0.47, std 0.04\n"
     ]
    }
   ],
   "source": [
    "# show data summary\n",
    "\n",
    "shape = scores_each_subject[1, :, :, :].shape\n",
    "\n",
    "for i, subj in enumerate(subj_list):\n",
    "    data = np.array([d for d in scores_each_subject[i, :, :, :].flat if d is not np.ma.masked])\n",
    "    mean = np.mean(data)\n",
    "    std = np.std(data)\n",
    "    median = np.median(data)\n",
    "    print('%s: mean %.2f, median %.2f, std %.2f' % (subj, mean, median, std))\n",
    "    \n",
    "# if you need to standardization, use this code\n",
    "#    scores_each_subject[i, :, :, :] = (scores_each_subject[i, :, :, :] - mean) / std"
   ]
  },
  {
   "cell_type": "code",
   "execution_count": null,
   "metadata": {},
   "outputs": [
    {
     "name": "stdout",
     "output_type": "stream",
     "text": [
      "43, 78, ...,  \r"
     ]
    }
   ],
   "source": [
    "# perform statistical test and save t map\n",
    "\n",
    "t_img = np.zeros(shape)\n",
    "\n",
    "for j in range(shape[0]):\n",
    "    for k in range(shape[1]):\n",
    "        for l in range(shape[2]):\n",
    "            # check voxel is in group mask\n",
    "            if not np.all(scores_each_subject[:, j, k, l].mask):\n",
    "                # perform permuted OLS\n",
    "                _, t_score, _ = nilearn.mass_univariate.permuted_ols(\n",
    "                    np.ones((num_SUBJ, 1)),  # one group\n",
    "                    scores_each_subject[:, j, k, l].reshape(-1, 1),  # make data (num_subject, data vector)\n",
    "                    n_perm=5000,\n",
    "                    two_sided_test=True,\n",
    "                    n_jobs=4)\n",
    "                \n",
    "                # save results as image\n",
    "                t_img[j, k, l] = t_score\n",
    "\n",
    "        print('%d, %d, ..., ' % (j, k), end='\\r')\n",
    "        \n",
    "t_img = nilearn.image.new_img_like(mask_img, t_img)\n",
    "t_img.to_filename(result_dir + 'tstat_radius3_gnb.nii.gz')"
   ]
  },
  {
   "cell_type": "markdown",
   "metadata": {},
   "source": [
    "# SVC classifier results"
   ]
  },
  {
   "cell_type": "code",
   "execution_count": null,
   "metadata": {},
   "outputs": [],
   "source": [
    "# load data\n",
    "\n",
    "scores_each_subject = []\n",
    "\n",
    "for subj in subj_list:\n",
    "    score = nilearn.image.load_img(result_dir + '%s_move_r3_svc.nii.gz' % subj).get_data()\n",
    "    score_ma = np.ma.array(score, mask=mask)\n",
    "    scores_each_subject.append(score)\n",
    "    \n",
    "scores_each_subject = np.ma.array(scores_each_subject, mask=[mask for i in range(num_SUBJ)])"
   ]
  },
  {
   "cell_type": "code",
   "execution_count": null,
   "metadata": {},
   "outputs": [],
   "source": [
    "# show data summary\n",
    "\n",
    "shape = scores_each_subject[1, :, :, :].shape\n",
    "\n",
    "for i, subj in enumerate(subj_list):\n",
    "    data = np.array([d for d in scores_each_subject[i, :, :, :].flat if d is not np.ma.masked])\n",
    "    mean = np.mean(data)\n",
    "    std = np.std(data)\n",
    "    median = np.median(data)\n",
    "    print('%s: mean %.2f, median %.2f, std %.2f' % (subj, mean, median, std))\n",
    "    \n",
    "# if you need to standardization, use this code\n",
    "#    scores_each_subject[i, :, :, :] = (scores_each_subject[i, :, :, :] - mean) / std"
   ]
  },
  {
   "cell_type": "code",
   "execution_count": null,
   "metadata": {},
   "outputs": [],
   "source": [
    "# perform statistical test and save t map\n",
    "\n",
    "t_img = np.zeros(shape)\n",
    "\n",
    "for j in range(shape[0]):\n",
    "    for k in range(shape[1]):\n",
    "        for l in range(shape[2]):\n",
    "            # check voxel is in group mask\n",
    "            if not np.all(scores_each_subject[:, j, k, l].mask):\n",
    "                # perform permuted OLS\n",
    "                _, t_score, _ = nilearn.mass_univariate.permuted_ols(\n",
    "                    np.ones((num_SUBJ, 1)),  # one group\n",
    "                    scores_each_subject[:, j, k, l].reshape(-1, 1),  # make data (num_subject, data vector)\n",
    "                    n_perm=5000,\n",
    "                    two_sided_test=True,\n",
    "                    n_jobs=4)\n",
    "                \n",
    "                # save results as image\n",
    "                t_img[j, k, l] = t_score\n",
    "\n",
    "        print('%d, %d, ..., ' % (j, k), end='\\r')\n",
    "        \n",
    "t_img = nilearn.image.new_img_like(mask_img, t_img)\n",
    "t_img.to_filename(result_dir + 'tstat_radius3_svc.nii.gz')"
   ]
  },
  {
   "cell_type": "code",
   "execution_count": null,
   "metadata": {},
   "outputs": [],
   "source": []
  }
 ],
 "metadata": {
  "kernelspec": {
   "display_name": "Python 3",
   "language": "python",
   "name": "python3"
  },
  "language_info": {
   "codemirror_mode": {
    "name": "ipython",
    "version": 3
   },
   "file_extension": ".py",
   "mimetype": "text/x-python",
   "name": "python",
   "nbconvert_exporter": "python",
   "pygments_lexer": "ipython3",
   "version": "3.6.6"
  }
 },
 "nbformat": 4,
 "nbformat_minor": 2
}
